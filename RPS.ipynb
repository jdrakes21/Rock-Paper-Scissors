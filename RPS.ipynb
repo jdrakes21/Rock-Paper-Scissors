{
 "cells": [
  {
   "cell_type": "code",
   "execution_count": null,
   "id": "a2501f34-15e8-49bd-972b-24b8dca4c81e",
   "metadata": {},
   "outputs": [],
   "source": [
    "import random\n",
    "\n",
    "# Dictionary to store counter moves\n",
    "counter_move = {\"R\": \"P\", \"P\": \"S\", \"S\": \"R\"}\n",
    "\n",
    "# Dictionary to store move patterns and their frequencies\n",
    "move_patterns = {}\n",
    "\n",
    "\n",
    "def player(prev_play, opponent_history=[]):\n",
    "    if prev_play:\n",
    "        opponent_history.append(prev_play)\n",
    "\n",
    "    # Optimal value for n to achieve a win rate of over 60%\n",
    "    n = 5\n",
    "\n",
    "    hist = opponent_history\n",
    "    guess = \"R\"\n",
    "\n",
    "    if len(hist) > n:\n",
    "        pattern = \"\".join(hist[-n:])\n",
    "\n",
    "        prev_pattern = \"\".join(hist[-(n + 1):])\n",
    "\n",
    "        # Update the move patterns and their frequencies\n",
    "        if prev_pattern in move_patterns:\n",
    "            move_patterns[prev_pattern] += 1\n",
    "        else:\n",
    "            move_patterns[prev_pattern] = 1\n",
    "\n",
    "        possible_moves = [pattern + move for move in [\"R\", \"P\", \"S\"]]\n",
    "\n",
    "        # Initialize frequencies for possible moves\n",
    "        for move in possible_moves:\n",
    "            if move not in move_patterns:\n",
    "                move_patterns[move] = 0\n",
    "\n",
    "        # Predict the opponent's next move based on frequencies\n",
    "        most_frequent = max(possible_moves, key=lambda key: move_patterns[key])\n",
    "\n",
    "        # Determine the counter move\n",
    "        if most_frequent[-1] in counter_move:\n",
    "            guess = counter_move[most_frequent[-1]]\n",
    "\n",
    "    return guess"
   ]
  }
 ],
 "metadata": {
  "kernelspec": {
   "display_name": "Python 3 (ipykernel)",
   "language": "python",
   "name": "python3"
  },
  "language_info": {
   "codemirror_mode": {
    "name": "ipython",
    "version": 3
   },
   "file_extension": ".py",
   "mimetype": "text/x-python",
   "name": "python",
   "nbconvert_exporter": "python",
   "pygments_lexer": "ipython3",
   "version": "3.10.10"
  }
 },
 "nbformat": 4,
 "nbformat_minor": 5
}
